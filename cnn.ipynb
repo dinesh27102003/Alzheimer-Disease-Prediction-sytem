{
 "cells": [
  {
   "cell_type": "code",
   "execution_count": 1,
   "id": "2d8aca3c",
   "metadata": {},
   "outputs": [],
   "source": [
    "import numpy as np\n",
    "import tensorflow as tf\n",
    "from tensorflow import keras\n",
    "from sklearn.model_selection import train_test_split\n",
    "from sklearn.preprocessing import LabelEncoder\n",
    "from tensorflow.keras import layers, models\n",
    "#preparing data\n",
    "import os\n",
    "path = os.listdir('AlzheimerDataset')\n",
    "classes = {'NonDemented':0, 'MildDemented':1, 'ModerateDemented':2, 'VeryMildDemented':3}\n",
    "import cv2\n",
    "X = []\n",
    "Y = []\n",
    "for cls in classes:\n",
    "    pth = 'AlzheimerDataset/train/'+cls\n",
    "    for j in os.listdir(pth):\n",
    "        img = cv2.imread(pth+'/'+j, 0)\n",
    "        img = cv2.resize(img, (128,128))\n",
    "        X.append(img)\n",
    "        Y.append(classes[cls])\n",
    "\n",
    "X = np.array(X)\n",
    "Y = np.array(Y)"
   ]
  },
  {
   "cell_type": "code",
   "execution_count": 2,
   "id": "4e5e2b3c",
   "metadata": {},
   "outputs": [
    {
     "name": "stdout",
     "output_type": "stream",
     "text": [
      "Epoch 1/10\n",
      "116/116 [==============================] - 123s 1s/step - loss: 1.0351 - accuracy: 0.5141 - val_loss: 0.9109 - val_accuracy: 0.5561\n",
      "Epoch 2/10\n",
      "116/116 [==============================] - 122s 1s/step - loss: 0.8238 - accuracy: 0.6262 - val_loss: 0.7911 - val_accuracy: 0.6195\n",
      "Epoch 3/10\n",
      "116/116 [==============================] - 146s 1s/step - loss: 0.6081 - accuracy: 0.7328 - val_loss: 0.5214 - val_accuracy: 0.7439\n",
      "Epoch 4/10\n",
      "116/116 [==============================] - 115s 989ms/step - loss: 0.3263 - accuracy: 0.8681 - val_loss: 0.3011 - val_accuracy: 0.8805\n",
      "Epoch 5/10\n",
      "116/116 [==============================] - 111s 955ms/step - loss: 0.1363 - accuracy: 0.9528 - val_loss: 0.4251 - val_accuracy: 0.8463\n",
      "Epoch 6/10\n",
      "116/116 [==============================] - 117s 1s/step - loss: 0.0990 - accuracy: 0.9631 - val_loss: 0.2067 - val_accuracy: 0.9341\n",
      "Epoch 7/10\n",
      "116/116 [==============================] - 112s 970ms/step - loss: 0.0203 - accuracy: 0.9965 - val_loss: 0.1263 - val_accuracy: 0.9634\n",
      "Epoch 8/10\n",
      "116/116 [==============================] - 114s 981ms/step - loss: 0.0048 - accuracy: 0.9995 - val_loss: 0.0879 - val_accuracy: 0.9780\n",
      "Epoch 9/10\n",
      "116/116 [==============================] - 130s 1s/step - loss: 7.7094e-04 - accuracy: 1.0000 - val_loss: 0.0980 - val_accuracy: 0.9805\n",
      "Epoch 10/10\n",
      "116/116 [==============================] - 111s 951ms/step - loss: 4.0826e-04 - accuracy: 1.0000 - val_loss: 0.0901 - val_accuracy: 0.9780\n",
      "33/33 [==============================] - 6s 183ms/step - loss: 0.0686 - accuracy: 0.9834\n",
      "Test accuracy: 0.9834146499633789\n"
     ]
    }
   ],
   "source": [
    "from sklearn.model_selection import train_test_split\n",
    "from sklearn.preprocessing import LabelEncoder\n",
    "from keras.utils import to_categorical\n",
    "from keras.models import Sequential\n",
    "from keras.layers import Conv2D, MaxPooling2D, Flatten, Dense\n",
    "\n",
    "\n",
    "# Split the data into training and testing sets\n",
    "X_train, X_test, y_train, y_test = train_test_split(X, Y, test_size=0.2, random_state=42)\n",
    "\n",
    "# Encode class labels\n",
    "label_encoder = LabelEncoder()\n",
    "y_train = label_encoder.fit_transform(y_train)\n",
    "y_test = label_encoder.transform(y_test)\n",
    "\n",
    "# Convert class labels to one-hot encoding\n",
    "y_train = to_categorical(y_train, num_classes=4)\n",
    "y_test = to_categorical(y_test, num_classes=4)\n",
    "\n",
    "# Normalize the image data\n",
    "X_train = X_train / 255.0\n",
    "X_test = X_test / 255.0\n",
    "\n",
    "# Build the model\n",
    "model = models.Sequential()\n",
    "model.add(layers.Conv2D(32, (3, 3), activation='relu', input_shape=(128, 128, 1)))\n",
    "model.add(layers.MaxPooling2D((2, 2)))\n",
    "model.add(layers.Conv2D(64, (3, 3), activation='relu'))\n",
    "model.add(layers.MaxPooling2D((2, 2)))\n",
    "model.add(layers.Conv2D(128, (3, 3), activation='relu'))\n",
    "model.add(layers.Flatten())\n",
    "model.add(layers.Dense(128, activation='relu'))\n",
    "model.add(layers.Dense(4, activation='softmax'))  # Output layer with 4 units for 4 classes\n",
    "\n",
    "# Compile the model\n",
    "model.compile(optimizer='adam', loss='categorical_crossentropy', metrics=['accuracy'])\n",
    "\n",
    "# Train the model\n",
    "model.fit(X_train, y_train, epochs=10, batch_size=32, validation_split=0.1)\n",
    "\n",
    "# Evaluate the model\n",
    "test_loss, test_accuracy = model.evaluate(X_test, y_test)\n",
    "print(f'Test accuracy: {test_accuracy}')\n"
   ]
  },
  {
   "cell_type": "code",
   "execution_count": 3,
   "id": "77246dcf",
   "metadata": {},
   "outputs": [
    {
     "name": "stderr",
     "output_type": "stream",
     "text": [
      "C:\\Users\\preethi\\AppData\\Local\\Temp\\ipykernel_22492\\939735350.py:1: UserWarning: You are saving your model as an HDF5 file via `model.save()`. This file format is considered legacy. We recommend using instead the native Keras format, e.g. `model.save('my_model.keras')`.\n",
      "  tf.keras.models.save_model(model,'my_model2.hdf5')\n"
     ]
    }
   ],
   "source": [
    "tf.keras.models.save_model(model,'my_model2.hdf5')"
   ]
  },
  {
   "cell_type": "code",
   "execution_count": 15,
   "id": "77acc38a",
   "metadata": {},
   "outputs": [
    {
     "name": "stdout",
     "output_type": "stream",
     "text": [
      "1\n"
     ]
    }
   ],
   "source": [
    "print(np.argmax(y_test[9]))"
   ]
  },
  {
   "cell_type": "code",
   "execution_count": null,
   "id": "7be69343",
   "metadata": {},
   "outputs": [],
   "source": []
  }
 ],
 "metadata": {
  "kernelspec": {
   "display_name": "Python 3 (ipykernel)",
   "language": "python",
   "name": "python3"
  },
  "language_info": {
   "codemirror_mode": {
    "name": "ipython",
    "version": 3
   },
   "file_extension": ".py",
   "mimetype": "text/x-python",
   "name": "python",
   "nbconvert_exporter": "python",
   "pygments_lexer": "ipython3",
   "version": "3.11.3"
  }
 },
 "nbformat": 4,
 "nbformat_minor": 5
}
